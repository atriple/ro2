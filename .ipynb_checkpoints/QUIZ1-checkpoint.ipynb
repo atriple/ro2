{
 "cells": [
  {
   "cell_type": "markdown",
   "metadata": {},
   "source": [
    "# QUIZ 1 RO-2 (Q)\n",
    "by: Sumihar Christian "
   ]
  },
  {
   "cell_type": "markdown",
   "metadata": {},
   "source": [
    "secara default scipy.minize menggunakan method ```Sequential Least SQuares Programming```, which basically sebuah method iterative buat menyelesaikan constrained linear optimization.  \n",
    "\n",
    "Algoritmanya mirip sama punya KKT (they solve the same stuff.): \n",
    "\n",
    "$$\n",
    "\\min_x f(x) \\\\ \n",
    "constraint: \\\\\n",
    "b(x) >= 0 \\\\\n",
    "c(x) = 0 \\\\ \\\\ \n",
    "\\mathcal{L}(x,\\lambda,\\sigma) = f(x) - \\lambda^{T}b(x)-\\sigma^{T}c(x)\n",
    "$$"
   ]
  },
  {
   "cell_type": "markdown",
   "metadata": {},
   "source": [
    "$$ f(x):(x_1-1)^2 + ((x_2+2)^2 + (x_3-2)^2)\n",
    "$$ "
   ]
  },
  {
   "cell_type": "markdown",
   "metadata": {},
   "source": [
    "constraint to: \n",
    "$$ g(x): (2x_1 + 3x_2 -1) = 0 \\\\\n",
    "h(x): (x_1 + x_2 + 2x_3 - 4) = 0 \n",
    "$$"
   ]
  },
  {
   "cell_type": "markdown",
   "metadata": {},
   "source": [
    "initial guess ($x_0$) : \n",
    "$$ x_0 = (5,-3,1) $$\n",
    "that suffices the constraint"
   ]
  },
  {
   "cell_type": "code",
   "execution_count": 1,
   "metadata": {},
   "outputs": [],
   "source": [
    "import numpy as np \n",
    "from scipy.optimize import minimize"
   ]
  },
  {
   "cell_type": "code",
   "execution_count": 6,
   "metadata": {},
   "outputs": [],
   "source": [
    "def cons1(x): \n",
    "    return 2*x[0] + 3*x[1] -1\n",
    "def cons2(x): \n",
    "    return x[0] + x[1] + 2*x[2] - 4 \n",
    "def obj(x): \n",
    "    return ((x[0]-1)**2 + (x[1]+2)**2 + (x[2]-2)**2)"
   ]
  },
  {
   "cell_type": "code",
   "execution_count": 7,
   "metadata": {},
   "outputs": [],
   "source": [
    "con1 = {\n",
    "    'type':'eq', \n",
    "    'fun':cons1\n",
    "}\n",
    "con2 = {\n",
    "    'type':'eq',\n",
    "    'fun':cons2\n",
    "}\n",
    "constraint = ([con1,con2])"
   ]
  },
  {
   "cell_type": "code",
   "execution_count": 8,
   "metadata": {},
   "outputs": [],
   "source": [
    "x0 =(5,-3,1) #initial guess\n",
    "sol = minimize(obj,x0,constraints=constraint)"
   ]
  },
  {
   "cell_type": "code",
   "execution_count": 9,
   "metadata": {
    "scrolled": true
   },
   "outputs": [
    {
     "data": {
      "text/plain": [
       "     fun: 2.1320754716981147\n",
       "     jac: array([ 1.43396229,  2.3773585 , -0.90566036])\n",
       " message: 'Optimization terminated successfully.'\n",
       "    nfev: 11\n",
       "     nit: 2\n",
       "    njev: 2\n",
       "  status: 0\n",
       " success: True\n",
       "       x: array([ 1.71698113, -0.81132075,  1.54716981])"
      ]
     },
     "execution_count": 9,
     "metadata": {},
     "output_type": "execute_result"
    }
   ],
   "source": [
    "sol"
   ]
  },
  {
   "cell_type": "markdown",
   "metadata": {},
   "source": [
    "# results\n",
    "objective value = 2.1320754716981147   \n",
    "$x_1$ = 1.17169    \n",
    "$x_2$ = -0.811132075    \n",
    "$x_3$ = 1.54716981    "
   ]
  },
  {
   "cell_type": "markdown",
   "metadata": {},
   "source": [
    "![](https://pics.me.me/when-your-friends-tell-you-about-how-awesome-it-is-29157590.png)"
   ]
  },
  {
   "cell_type": "markdown",
   "metadata": {},
   "source": [
    "penjelasan scipy.minimize bisa dilihat [disini](https://github.com/svmihar/ro2/blob/master/quiz_bayangan/jawaban_kuis.ipynb) "
   ]
  }
 ],
 "metadata": {
  "kernelspec": {
   "display_name": "Python 3",
   "language": "python",
   "name": "python3"
  },
  "language_info": {
   "codemirror_mode": {
    "name": "ipython",
    "version": 3
   },
   "file_extension": ".py",
   "mimetype": "text/x-python",
   "name": "python",
   "nbconvert_exporter": "python",
   "pygments_lexer": "ipython3",
   "version": "3.7.2"
  }
 },
 "nbformat": 4,
 "nbformat_minor": 2
}
