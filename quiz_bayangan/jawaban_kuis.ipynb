{
 "cells": [
  {
   "cell_type": "markdown",
   "metadata": {},
   "source": [
    "# Ask and it will be given to you; seek and you will find; knock and the door will be opened to you"
   ]
  },
  {
   "cell_type": "markdown",
   "metadata": {},
   "source": [
    "Solving for **Hock Schittkowski Problem no. 71** where: \n",
    "$$ min (x_1, x_4 (x_1+x_2+x_3)+x_3) $$ \n",
    "constraint to: \n",
    "$$ \n",
    "x_1 * x_2 * x_3 * x_4 >= 25 \\\\ \n",
    "x_1^2 + x_2^2 + x_3^2 + x_4^2 = 40 \\\\ \n",
    "1 <= x_1, x_2, x_3, x_4 <= 5 \\\\\n",
    "x_0 = (1,5,5,1)\n",
    "$$ \n"
   ]
  },
  {
   "cell_type": "code",
   "execution_count": 1,
   "metadata": {},
   "outputs": [],
   "source": [
    "import numpy as np\n",
    "from scipy.optimize import minimize "
   ]
  },
  {
   "cell_type": "code",
   "execution_count": 2,
   "metadata": {},
   "outputs": [],
   "source": [
    "def objective_function(x): \n",
    "    return(x[0] * x[3]*(x[0]+x[1]+x[2])+x[2])\n",
    "\n",
    "def constraint_1(x): \n",
    "    return x[0]*x[1]*x[2]*x[3]-25.0\n",
    "def constraint_2(x): \n",
    "    sama_dengan = 40\n",
    "    for i in range(4): \n",
    "        sama_dengan = sama_dengan - x[i]**2\n",
    "    return sama_dengan\n"
   ]
  },
  {
   "cell_type": "code",
   "execution_count": 3,
   "metadata": {},
   "outputs": [
    {
     "name": "stdout",
     "output_type": "stream",
     "text": [
      "hasil dari fungsi objektif dimasukkan (1, 5, 5, 1) adalah 16\n"
     ]
    }
   ],
   "source": [
    "# masukin x0 kedalam fungsi objektif\n",
    "x0 = (1,5,5,1)\n",
    "\n",
    "print(f'hasil dari fungsi objektif dimasukkan {x0} adalah {objective_function(x0)}')"
   ]
  },
  {
   "cell_type": "code",
   "execution_count": 4,
   "metadata": {},
   "outputs": [],
   "source": [
    "# eeeeey, it's optimizing time\n",
    "b = (1,5)\n",
    "bounds = (b,b,b,b) \n",
    "con1 = {\n",
    "    'type':'ineq', \n",
    "    'fun':constraint_1\n",
    "}\n",
    "con2 = {\n",
    "    'type':'eq',\n",
    "    'fun':constraint_2\n",
    "}\n",
    "constraint = ([con1,con2])"
   ]
  },
  {
   "cell_type": "code",
   "execution_count": 5,
   "metadata": {},
   "outputs": [
    {
     "name": "stderr",
     "output_type": "stream",
     "text": [
      "C:\\Users\\PEMODELAN-01\\nakonda\\lib\\site-packages\\scipy\\optimize\\_minimize.py:518: RuntimeWarning: Method Powell cannot handle constraints nor bounds.\n",
      "  RuntimeWarning)\n",
      "C:\\Users\\PEMODELAN-01\\nakonda\\lib\\site-packages\\scipy\\optimize\\optimize.py:2313: RuntimeWarning: overflow encountered in double_scalars\n",
      "  if (w - xc) * (xb - w) > 0.0:\n",
      "C:\\Users\\PEMODELAN-01\\nakonda\\lib\\site-packages\\scipy\\optimize\\optimize.py:2329: RuntimeWarning: overflow encountered in double_scalars\n",
      "  elif (w - wlim)*(wlim - xc) >= 0.0:\n",
      "C:\\Users\\PEMODELAN-01\\nakonda\\lib\\site-packages\\scipy\\optimize\\optimize.py:2308: RuntimeWarning: overflow encountered in double_scalars\n",
      "  w = xb - ((xb - xc) * tmp2 - (xb - xa) * tmp1) / denom\n",
      "C:\\Users\\PEMODELAN-01\\nakonda\\lib\\site-packages\\scipy\\optimize\\optimize.py:2301: RuntimeWarning: overflow encountered in double_scalars\n",
      "  tmp1 = (xb - xa) * (fb - fc)\n",
      "C:\\Users\\PEMODELAN-01\\nakonda\\lib\\site-packages\\scipy\\optimize\\optimize.py:2302: RuntimeWarning: overflow encountered in double_scalars\n",
      "  tmp2 = (xb - xc) * (fb - fa)\n",
      "C:\\Users\\PEMODELAN-01\\nakonda\\lib\\site-packages\\scipy\\optimize\\optimize.py:2303: RuntimeWarning: invalid value encountered in double_scalars\n",
      "  val = tmp2 - tmp1\n",
      "C:\\Users\\PEMODELAN-01\\nakonda\\lib\\site-packages\\ipykernel_launcher.py:2: RuntimeWarning: overflow encountered in double_scalars\n",
      "  \n",
      "C:\\Users\\PEMODELAN-01\\nakonda\\lib\\site-packages\\scipy\\optimize\\optimize.py:1926: RuntimeWarning: invalid value encountered in double_scalars\n",
      "  tmp1 = (x - w) * (fx - fv)\n",
      "C:\\Users\\PEMODELAN-01\\nakonda\\lib\\site-packages\\scipy\\optimize\\optimize.py:1927: RuntimeWarning: invalid value encountered in double_scalars\n",
      "  tmp2 = (x - v) * (fx - fw)\n",
      "C:\\Users\\PEMODELAN-01\\nakonda\\lib\\site-packages\\scipy\\optimize\\optimize.py:2573: RuntimeWarning: invalid value encountered in double_scalars\n",
      "  if (fx2 - fval) > delta:\n",
      "C:\\Users\\PEMODELAN-01\\nakonda\\lib\\site-packages\\scipy\\optimize\\_minimize.py:518: RuntimeWarning: Method CG cannot handle constraints nor bounds.\n",
      "  RuntimeWarning)\n",
      "C:\\Users\\PEMODELAN-01\\nakonda\\lib\\site-packages\\scipy\\optimize\\_minimize.py:518: RuntimeWarning: Method BFGS cannot handle constraints nor bounds.\n",
      "  RuntimeWarning)\n",
      "C:\\Users\\PEMODELAN-01\\nakonda\\lib\\site-packages\\scipy\\optimize\\_minimize.py:521: RuntimeWarning: Method L-BFGS-B cannot handle constraints.\n",
      "  RuntimeWarning)\n",
      "C:\\Users\\PEMODELAN-01\\nakonda\\lib\\site-packages\\scipy\\optimize\\_minimize.py:521: RuntimeWarning: Method TNC cannot handle constraints.\n",
      "  RuntimeWarning)\n"
     ]
    }
   ],
   "source": [
    "kumpulan_method = ['SLSQP','Powell','CG','BFGS','L-BFGS-B','TNC']\n",
    "solutions = {}\n",
    "try: \n",
    "    for method in kumpulan_method: \n",
    "        sol = minimize(objective_function,x0,method=method,bounds=bounds,constraints=constraint)\n",
    "        solutions[method] = sol['x']\n",
    "except: \n",
    "    print(f'metode {method} gagal')\n",
    "    pass\n"
   ]
  },
  {
   "cell_type": "code",
   "execution_count": 6,
   "metadata": {},
   "outputs": [
    {
     "name": "stdout",
     "output_type": "stream",
     "text": [
      "{'BFGS': array([-773.75378634, 1207.58153168, -417.89436966,   97.55893544]),\n",
      " 'CG': array([-1.42348676e+08,  4.84857582e+08,  1.68082841e+08,  6.80757384e+08]),\n",
      " 'L-BFGS-B': array([1., 1., 1., 1.]),\n",
      " 'Powell': array([-5.00000000e+000,  6.59413555e+307,  7.58792896e+000,\n",
      "        3.58792896e+000]),\n",
      " 'SLSQP': array([1.        , 4.7429961 , 3.82115462, 1.37940765]),\n",
      " 'TNC': array([1., 1., 1., 1.])}\n"
     ]
    }
   ],
   "source": [
    "from pprint import pprint\n",
    "pprint(solutions)"
   ]
  },
  {
   "cell_type": "code",
   "execution_count": 7,
   "metadata": {},
   "outputs": [],
   "source": [
    " sol = minimize(objective_function,x0,bounds=bounds,constraints=constraint)"
   ]
  },
  {
   "cell_type": "code",
   "execution_count": 8,
   "metadata": {},
   "outputs": [
    {
     "data": {
      "text/plain": [
       "     fun: 17.01401724563517\n",
       "     jac: array([14.57227015,  1.37940764,  2.37940764,  9.56415057])\n",
       " message: 'Optimization terminated successfully.'\n",
       "    nfev: 30\n",
       "     nit: 5\n",
       "    njev: 5\n",
       "  status: 0\n",
       " success: True\n",
       "       x: array([1.        , 4.7429961 , 3.82115462, 1.37940765])"
      ]
     },
     "execution_count": 8,
     "metadata": {},
     "output_type": "execute_result"
    }
   ],
   "source": [
    "sol"
   ]
  },
  {
   "cell_type": "code",
   "execution_count": 13,
   "metadata": {},
   "outputs": [
    {
     "name": "stdout",
     "output_type": "stream",
     "text": [
      "jadi dengan menggunakan [1.         4.7429961  3.82115462 1.37940765] dan dimasukkan ke dalam fungsi objektif didapat 17.01401724563517\n"
     ]
    }
   ],
   "source": [
    "x=sol['x']\n",
    "print(f'jadi dengan menggunakan {x} dan dimasukkan ke dalam fungsi objektif didapat {objective_function(x)}')"
   ]
  },
  {
   "cell_type": "markdown",
   "metadata": {},
   "source": [
    "![](https://pics.me.me/when-your-friends-tell-you-about-how-awesome-it-is-29157590.png)"
   ]
  }
 ],
 "metadata": {
  "kernelspec": {
   "display_name": "Python 3",
   "language": "python",
   "name": "python3"
  },
  "language_info": {
   "codemirror_mode": {
    "name": "ipython",
    "version": 3
   },
   "file_extension": ".py",
   "mimetype": "text/x-python",
   "name": "python",
   "nbconvert_exporter": "python",
   "pygments_lexer": "ipython3",
   "version": "3.7.0"
  }
 },
 "nbformat": 4,
 "nbformat_minor": 2
}
