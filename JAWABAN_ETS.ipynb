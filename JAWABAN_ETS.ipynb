{
 "cells": [
  {
   "cell_type": "markdown",
   "metadata": {},
   "source": [
    "# SOAL ETS 2019\n",
    "by: Sumihar Christian "
   ]
  },
  {
   "cell_type": "code",
   "execution_count": 18,
   "metadata": {},
   "outputs": [],
   "source": [
    "from math import sqrt\n",
    "# define objective function \n",
    "def obj(x): \n",
    "    return sqrt((x[0]-20)**2+(x[1]-0)**2) + sqrt((x[0]-0)**2 + (x[1]-20)**2)    "
   ]
  },
  {
   "cell_type": "code",
   "execution_count": 19,
   "metadata": {},
   "outputs": [],
   "source": [
    "#define constraint\n",
    "def cons3 (x): \n",
    "    return (x[0])**2 + (x[1])**2 - 400**2"
   ]
  },
  {
   "cell_type": "code",
   "execution_count": 20,
   "metadata": {},
   "outputs": [],
   "source": [
    "# define type of constraint, with boundary\n",
    "cons = {\n",
    "    'type':'ineq', \n",
    "    'fun':cons3, \n",
    "    'bounds':[0,0]\n",
    "}"
   ]
  },
  {
   "cell_type": "code",
   "execution_count": 21,
   "metadata": {},
   "outputs": [],
   "source": [
    "# give initial condition, and solve the equation using KKT from scipy.minimize\n",
    "from scipy.optimize import minimize\n",
    "x0 = (0,0)\n",
    "solution = minimize(obj, x0, constraints=cons)"
   ]
  },
  {
   "cell_type": "code",
   "execution_count": 22,
   "metadata": {},
   "outputs": [
    {
     "data": {
      "text/plain": [
       "     fun: 772.2339042583401\n",
       "     jac: array([1.41136169, 1.41516113])\n",
       " message: 'Optimization terminated successfully.'\n",
       "    nfev: 86\n",
       "     nit: 22\n",
       "    njev: 21\n",
       "  status: 0\n",
       " success: True\n",
       "       x: array([282.4747214 , 283.21022543])"
      ]
     },
     "execution_count": 22,
     "metadata": {},
     "output_type": "execute_result"
    }
   ],
   "source": [
    "solution"
   ]
  },
  {
   "cell_type": "markdown",
   "metadata": {},
   "source": [
    "## from solution we get \n",
    "$$x = 282.474 \\\\\n",
    "y = 283.210 \\\\\n",
    "$$\n",
    "\n",
    "where the sum between distance of $s_2$ to A, and distance of $s_2$ to B is 772.23309"
   ]
  }
 ],
 "metadata": {
  "kernelspec": {
   "display_name": "Python 3",
   "language": "python",
   "name": "python3"
  },
  "language_info": {
   "codemirror_mode": {
    "name": "ipython",
    "version": 3
   },
   "file_extension": ".py",
   "mimetype": "text/x-python",
   "name": "python",
   "nbconvert_exporter": "python",
   "pygments_lexer": "ipython3",
   "version": "3.7.2"
  }
 },
 "nbformat": 4,
 "nbformat_minor": 2
}
